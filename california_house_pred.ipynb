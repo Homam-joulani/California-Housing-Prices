{
  "nbformat": 4,
  "nbformat_minor": 0,
  "metadata": {
    "colab": {
      "name": "california_house_pred.ipynb",
      "provenance": [],
      "collapsed_sections": []
    },
    "kernelspec": {
      "name": "python3",
      "display_name": "Python 3"
    },
    "language_info": {
      "name": "python"
    }
  },
  "cells": [
    {
      "cell_type": "code",
      "metadata": {
        "id": "LNaPutAPZTLo"
      },
      "source": [
        "from sklearn.model_selection import StratifiedShuffleSplit\n",
        "from sklearn.base import BaseEstimator, TransformerMixin\n",
        "from sklearn.preprocessing  import StandardScaler\n",
        "from sklearn.preprocessing import OneHotEncoder\n",
        "from sklearn.compose import ColumnTransformer\n",
        "from sklearn.impute import SimpleImputer\n",
        "from  sklearn.model_selection import GridSearchCV\n",
        "from sklearn.linear_model import LinearRegression\n",
        "from sklearn.ensemble import RandomForestRegressor\n",
        "from sklearn.metrics import mean_squared_error\n",
        "from sklearn.pipeline import Pipeline\n",
        "\n",
        "import matplotlib.pyplot as plt\n",
        "import pandas as pd\n",
        "import numpy as np \n",
        "import numpy.random as rnd\n",
        "rnd.seed(0)\n",
        "\n",
        "def load_housing_data(data: str):\n",
        "    return pd.read_csv(data)\n",
        "\n",
        "housing = load_housing_data(\"housing.csv")\n",
        "\n",
        "housing.head(10)"
      ],
      "execution_count": null,
      "outputs": []
    },
    {
      "cell_type": "code",
      "metadata": {
        "id": "e91FG6-SZWwH"
      },
      "source": [
        "housing.info()"
      ],
      "execution_count": null,
      "outputs": []
    },
    {
      "cell_type": "code",
      "metadata": {
        "id": "tEvLUI4VZWsl",
        "colab": {
          "base_uri": "https://localhost:8080/"
        },
        "outputId": "f797ee91-32fd-4d53-90ec-df97b544c718"
      },
      "source": [
        "housing[\"ocean_proximity\"].value_counts()"
      ],
      "execution_count": 3,
      "outputs": [
        {
          "output_type": "execute_result",
          "data": {
            "text/plain": [
              "<1H OCEAN     9136\n",
              "INLAND        6551\n",
              "NEAR OCEAN    2658\n",
              "NEAR BAY      2290\n",
              "ISLAND           5\n",
              "Name: ocean_proximity, dtype: int64"
            ]
          },
          "metadata": {},
          "execution_count": 3
        }
      ]
    },
    {
      "cell_type": "code",
      "metadata": {
        "id": "L1YKuD-NZWqz"
      },
      "source": [
        "housing.describe()"
      ],
      "execution_count": null,
      "outputs": []
    },
    {
      "cell_type": "code",
      "metadata": {
        "id": "7EmYRb1zZWol"
      },
      "source": [
        "housing.hist( bins=50, figsize=(20,15) )\n"
      ],
      "execution_count": null,
      "outputs": []
    },
    {
      "cell_type": "code",
      "metadata": {
        "id": "1Y1otNSvZWmP"
      },
      "source": [
        "# ploting the income column distribution\n",
        "housing['income_cat'] = pd.cut(housing['median_income']\n",
        "                              , bins=[0.,1.5,3.0,4.5,6.0,np.inf]\n",
        "                              , labels=[1,2,3,4,5])\n",
        "housing[\"income_cat\"].hist()\n"
      ],
      "execution_count": null,
      "outputs": []
    },
    {
      "cell_type": "code",
      "metadata": {
        "id": "qJvwvDvaZWkS"
      },
      "source": [
        "# Since the data is not balanced we're going split the using stratified split\n",
        "splitter = StratifiedShuffleSplit(n_splits=1, test_size =0.2, random_state=0 )\n",
        "\n",
        "for train_index, test_index in splitter.split(housing, housing[\"income_cat\"] ):\n",
        "    strat_train_set = housing.loc[train_index]\n",
        "    strat_test_set = housing.loc[test_index]\n",
        "\n",
        "strat_test_set[\"income_cat\"].value_counts()/len(strat_test_set)\n",
        "\n",
        "\n",
        "\n"
      ],
      "execution_count": null,
      "outputs": []
    },
    {
      "cell_type": "code",
      "metadata": {
        "id": "c3JoPSYTZWh9"
      },
      "source": [
        "# Drop the cut column we made since we finished using it\n",
        "for s in (strat_train_set , strat_test_set):\n",
        "    s.drop(\"income_cat\" , axis=1 , inplace=True)\n",
        "strat_train_set"
      ],
      "execution_count": null,
      "outputs": []
    },
    {
      "cell_type": "code",
      "metadata": {
        "id": "slXU77RtZqAW"
      },
      "source": [
        "housing = strat_train_set.copy()\n"
      ],
      "execution_count": 12,
      "outputs": []
    },
    {
      "cell_type": "code",
      "metadata": {
        "id": "IJIAQifhZp8z"
      },
      "source": [
        "housing.plot(kind=\"scatter\", x=\"longitude\", y=\"latitude\", alpha=0.4,\n",
        "s=housing[\"population\"]/100, label=\"population\", figsize=(10,7),\n",
        "c=\"median_house_value\", cmap=plt.get_cmap(\"jet\"), colorbar=True,\n",
        ")\n",
        "plt.legend()"
      ],
      "execution_count": null,
      "outputs": []
    },
    {
      "cell_type": "code",
      "metadata": {
        "id": "2dbV3piQZp7E"
      },
      "source": [
        "corr_matrix= housing.corr()\n",
        "corr_matrix[\"median_house_value\"].sort_values(ascending=False)"
      ],
      "execution_count": null,
      "outputs": []
    },
    {
      "cell_type": "code",
      "metadata": {
        "id": "wjcz0fDvZp4k"
      },
      "source": [
        "# Split labels from features\n",
        "housing_train = strat_train_set.drop(\"median_house_value\",axis=1)\n",
        "housing_train_labels = strat_train_set[\"median_house_value\"].copy()\n",
        "housing.info()\n",
        "\n",
        "housing_test=strat_test_set.drop(\"median_house_value\",axis=1)\n",
        "housing_test_labels=strat_test_set[\"median_house_value\"].copy()\n",
        "\n",
        "housing_train_labels"
      ],
      "execution_count": null,
      "outputs": []
    },
    {
      "cell_type": "code",
      "metadata": {
        "id": "K0U5nmGbrRnt"
      },
      "source": [
        "# Adding new Attributes\n",
        "rooms_ix ,bedrooms_ix, population_ix, households_ix = 3,4,5,6\n",
        "\n",
        "class CombinedAttributeAdder(BaseEstimator, TransformerMixin):\n",
        "    \n",
        "    def __init__(self, add_bedrooms_per_room = True):\n",
        "        self.add_bedrooms_per_room=add_bedrooms_per_room\n",
        "        \n",
        "    def fit(self,X,y=None):\n",
        "        return self\n",
        "    \n",
        "    def transform (self,X,y=None):\n",
        "        rooms_per_household = X[:,rooms_ix]/X[:,households_ix]\n",
        "        population_per_household = X[:,population_ix]/X[:,households_ix]\n",
        "        \n",
        "        if self.add_bedrooms_per_room :\n",
        "            bedrooms_per_room = X[:,bedrooms_ix]/X[:,rooms_ix]\n",
        "            return np.c_[X,rooms_per_household,population_per_household,bedrooms_per_room]\n",
        "        else: \n",
        "            return np.c_[X,rooms_per_household,population_per_household]\n",
        "\n"
      ],
      "execution_count": 24,
      "outputs": []
    },
    {
      "cell_type": "code",
      "metadata": {
        "id": "26CAB7MWrVts",
        "colab": {
          "base_uri": "https://localhost:8080/"
        },
        "outputId": "8484f804-d281-4738-c614-2acc73f190fa"
      },
      "source": [
        "# Creat pipeline for preprocessing numerical values\n",
        "housing_num = housing_train.drop(\"ocean_proximity\" , axis=1)\n",
        "\n",
        "num_pipeline = Pipeline([('imputer', SimpleImputer(strategy=\"median\")),\n",
        "                        ('attribs_adder', CombinedAttributeAdder()),\n",
        "                        ('std_adder',StandardScaler())])\n",
        "print(housing_num.shape)\n",
        "print(\"++++++++++++++++++++++++++++++++++++++++++++++++\")\n",
        "housing_num_tr= num_pipeline.fit_transform(housing_num)\n",
        "\n",
        "print(housing_num_tr.shape)"
      ],
      "execution_count": 39,
      "outputs": [
        {
          "output_type": "stream",
          "name": "stdout",
          "text": [
            "(16512, 8)\n",
            "++++++++++++++++++++++++++++++++++++++++++++++++\n",
            "(16512, 11)\n"
          ]
        }
      ]
    },
    {
      "cell_type": "code",
      "metadata": {
        "id": "RriFQMWGrfN_"
      },
      "source": [
        "# Creat pipeline for preprocessing nominal values\n",
        "num_attribs= list(housing_num)\n",
        "\n",
        "cat_attribs = [\"ocean_proximity\"]\n",
        "\n",
        "full_pipeline= ColumnTransformer([(\"num\", num_pipeline ,num_attribs ),\n",
        "                                ('cat',OneHotEncoder(),cat_attribs)])\n",
        "\n",
        "housing_prepared = full_pipeline.fit_transform(housing)\n"
      ],
      "execution_count": 40,
      "outputs": []
    },
    {
      "cell_type": "code",
      "metadata": {
        "id": "oQza5iNeyCJn",
        "colab": {
          "base_uri": "https://localhost:8080/"
        },
        "outputId": "7a42ef4e-07da-451c-dd89-2b6eff39b13f"
      },
      "source": [
        "# tuning the parameters using Grid search\n",
        "param_grid =[{'n_estimators':[3,10,30],'max_features':[2,4,6,8,10]}\n",
        "            ,{'bootstrap':[False],'n_estimators':[3,10],'max_features':[2,3,4,6] }]\n",
        "\n",
        "\n",
        "forest_reg = RandomForestRegressor()\n",
        "grid_search = GridSearchCV(forest_reg ,param_grid , cv = 5 , scoring=\"neg_mean_squared_error\", return_train_score=True )\n",
        "\n",
        "grid_search.fit(housing_prepared, housing_train_labels)"
      ],
      "execution_count": 47,
      "outputs": [
        {
          "output_type": "execute_result",
          "data": {
            "text/plain": [
              "GridSearchCV(cv=5, estimator=RandomForestRegressor(),\n",
              "             param_grid=[{'max_features': [2, 4, 6, 8, 10],\n",
              "                          'n_estimators': [3, 10, 30]},\n",
              "                         {'bootstrap': [False], 'max_features': [2, 3, 4, 6],\n",
              "                          'n_estimators': [3, 10]}],\n",
              "             return_train_score=True, scoring='neg_mean_squared_error')"
            ]
          },
          "metadata": {},
          "execution_count": 47
        }
      ]
    },
    {
      "cell_type": "code",
      "source": [
        "# Best parameters\n",
        "grid_search.best_params_"
      ],
      "metadata": {
        "id": "9RxCNkQwYReX"
      },
      "execution_count": null,
      "outputs": []
    },
    {
      "cell_type": "code",
      "source": [
        "# Printing the score for every parameters combination\n",
        "cvres = grid_search.cv_results_\n",
        "\n",
        "for mean_score , param in zip(cvres[\"mean_test_score\"],cvres[\"params\"]):\n",
        "    print(np.sqrt(-mean_score),param)"
      ],
      "metadata": {
        "colab": {
          "base_uri": "https://localhost:8080/"
        },
        "id": "OmEZBWKRW2Js",
        "outputId": "ea4f93a0-cd01-45a6-b411-a4e6d66723cd"
      },
      "execution_count": 48,
      "outputs": [
        {
          "output_type": "stream",
          "name": "stdout",
          "text": [
            "63781.34159043864 {'max_features': 2, 'n_estimators': 3}\n",
            "55237.32050578793 {'max_features': 2, 'n_estimators': 10}\n",
            "52734.30439902245 {'max_features': 2, 'n_estimators': 30}\n",
            "60255.98792681135 {'max_features': 4, 'n_estimators': 3}\n",
            "53023.72915674629 {'max_features': 4, 'n_estimators': 10}\n",
            "50391.46441440173 {'max_features': 4, 'n_estimators': 30}\n",
            "59421.900036053645 {'max_features': 6, 'n_estimators': 3}\n",
            "51983.879619085725 {'max_features': 6, 'n_estimators': 10}\n",
            "50060.21092410676 {'max_features': 6, 'n_estimators': 30}\n",
            "59130.98862591435 {'max_features': 8, 'n_estimators': 3}\n",
            "52370.165821905546 {'max_features': 8, 'n_estimators': 10}\n",
            "50381.98434007827 {'max_features': 8, 'n_estimators': 30}\n",
            "59244.64898151056 {'max_features': 10, 'n_estimators': 3}\n",
            "52043.844352014865 {'max_features': 10, 'n_estimators': 10}\n",
            "50154.26427767114 {'max_features': 10, 'n_estimators': 30}\n",
            "61971.52419634974 {'bootstrap': False, 'max_features': 2, 'n_estimators': 3}\n",
            "54657.65984495253 {'bootstrap': False, 'max_features': 2, 'n_estimators': 10}\n",
            "60382.22871697152 {'bootstrap': False, 'max_features': 3, 'n_estimators': 3}\n",
            "52848.98226123779 {'bootstrap': False, 'max_features': 3, 'n_estimators': 10}\n",
            "59781.903114349756 {'bootstrap': False, 'max_features': 4, 'n_estimators': 3}\n",
            "51464.470041345194 {'bootstrap': False, 'max_features': 4, 'n_estimators': 10}\n",
            "58286.667539314745 {'bootstrap': False, 'max_features': 6, 'n_estimators': 3}\n",
            "51552.45573002773 {'bootstrap': False, 'max_features': 6, 'n_estimators': 10}\n"
          ]
        }
      ]
    },
    {
      "cell_type": "code",
      "source": [
        "feature_importances= grid_search.best_estimator_.feature_importances_\n",
        "feature_importances"
      ],
      "metadata": {
        "colab": {
          "base_uri": "https://localhost:8080/"
        },
        "id": "uiFmJADtXhLH",
        "outputId": "f0ad23f1-2514-4b34-fc07-b66da03cdc52"
      },
      "execution_count": 49,
      "outputs": [
        {
          "output_type": "execute_result",
          "data": {
            "text/plain": [
              "array([7.43131222e-02, 6.66277376e-02, 4.05846156e-02, 1.66824888e-02,\n",
              "       1.70903930e-02, 1.73028527e-02, 1.60507474e-02, 3.44825239e-01,\n",
              "       5.84480594e-02, 1.09125436e-01, 6.81741813e-02, 5.45949770e-03,\n",
              "       1.59383399e-01, 8.05500279e-05, 2.27579315e-03, 3.57588710e-03])"
            ]
          },
          "metadata": {},
          "execution_count": 49
        }
      ]
    },
    {
      "cell_type": "code",
      "source": [
        "extra_attribs  = [\"rooms_per_hhold\" , \"pop_per_hhold\", \"bedrooms_per_room\"]\n",
        "cat_encoder = full_pipeline.named_transformers_[\"cat\"]\n",
        "cat_1hot_attribs = list(cat_encoder.categories_[0])\n",
        "cat_1hot_attribs\n",
        "\n",
        "attributes = num_attribs+extra_attribs+cat_1hot_attribs\n",
        "\n",
        "sorted(zip(feature_importances, attributes) , reverse=True)"
      ],
      "metadata": {
        "colab": {
          "base_uri": "https://localhost:8080/"
        },
        "id": "mkuaKuQ_XL0C",
        "outputId": "a00cafbc-ea8f-421e-f783-a4867f3db762"
      },
      "execution_count": 50,
      "outputs": [
        {
          "output_type": "execute_result",
          "data": {
            "text/plain": [
              "[(0.34482523926128145, 'median_income'),\n",
              " (0.1593833993971267, 'INLAND'),\n",
              " (0.10912543554255211, 'pop_per_hhold'),\n",
              " (0.07431312216343802, 'longitude'),\n",
              " (0.06817418128668859, 'bedrooms_per_room'),\n",
              " (0.06662773759569478, 'latitude'),\n",
              " (0.05844805935602717, 'rooms_per_hhold'),\n",
              " (0.040584615603845714, 'housing_median_age'),\n",
              " (0.017302852683251744, 'population'),\n",
              " (0.01709039298323656, 'total_bedrooms'),\n",
              " (0.016682488801076156, 'total_rooms'),\n",
              " (0.016050747357995266, 'households'),\n",
              " (0.00545949769590311, '<1H OCEAN'),\n",
              " (0.0035758870955710574, 'NEAR OCEAN'),\n",
              " (0.0022757931483776356, 'NEAR BAY'),\n",
              " (8.05500279340751e-05, 'ISLAND')]"
            ]
          },
          "metadata": {},
          "execution_count": 50
        }
      ]
    },
    {
      "cell_type": "code",
      "metadata": {
        "id": "vcT46hmBzVdK",
        "colab": {
          "base_uri": "https://localhost:8080/"
        },
        "outputId": "1f49f225-9a7e-4965-f7f6-b4e23c71f946"
      },
      "source": [
        "final_model = grid_search.best_estimator_\n",
        "\n",
        "housing_test_prepared = full_pipeline.transform(housing_test)\n",
        "\n",
        "final_predictions =final_model.predict(housing_test_prepared)\n",
        "\n",
        "final_mse= mean_squared_error(housing_test_labels,final_predictions)\n",
        "final_rmse = np.sqrt(final_mse)\n",
        "final_rmse\n"
      ],
      "execution_count": 52,
      "outputs": [
        {
          "output_type": "execute_result",
          "data": {
            "text/plain": [
              "51793.023713836046"
            ]
          },
          "metadata": {},
          "execution_count": 52
        }
      ]
    }
  ]
}
